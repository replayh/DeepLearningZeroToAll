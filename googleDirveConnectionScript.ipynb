{
  "nbformat": 4,
  "nbformat_minor": 0,
  "metadata": {
    "colab": {
      "name": "googleDirveConnectionScript.ipynb",
      "version": "0.3.2",
      "provenance": [],
      "collapsed_sections": [],
      "include_colab_link": true
    },
    "kernelspec": {
      "name": "python3",
      "display_name": "Python 3"
    }
  },
  "cells": [
    {
      "cell_type": "markdown",
      "metadata": {
        "id": "view-in-github",
        "colab_type": "text"
      },
      "source": [
        "<a href=\"https://colab.research.google.com/github/replayh/DeepLearningZeroToAll/blob/master/googleDirveConnectionScript.ipynb\" target=\"_parent\"><img src=\"https://colab.research.google.com/assets/colab-badge.svg\" alt=\"Open In Colab\"/></a>"
      ]
    },
    {
      "metadata": {
        "id": "rHuknQb_csky",
        "colab_type": "code",
        "colab": {
          "base_uri": "https://localhost:8080/",
          "height": 52
        },
        "outputId": "17a2253c-feca-4502-82ce-2cc5af9b606b"
      },
      "cell_type": "code",
      "source": [
        "# 구글 드라이브 연동\n",
        "\n",
        "\n",
        "!apt-get install -y -qq software-properties-common python-software-properties module-init-tools\n",
        "!add-apt-repository -y ppa:alessandro-strada/ppa 2>&1 > /dev/null\n",
        "!apt-get update -qq 2>&1 > /dev/null\n",
        "!apt-get -y install -qq google-drive-ocamlfuse fuse\n",
        "from google.colab import auth\n",
        "auth.authenticate_user()\n",
        "\n",
        "from oauth2client.client import GoogleCredentials\n",
        "creds = GoogleCredentials.get_application_default()\n",
        "\n",
        "import getpass\n",
        "!google-drive-ocamlfuse -headless -id={creds.client_id} -secret={creds.client_secret} < /dev/null 2>&1 | grep URL\n",
        "\n",
        "vcode = getpass.getpass()\n",
        "!echo {vcode} | google-drive-ocamlfuse -headless -id={creds.client_id} -secret={creds.client_secret}"
      ],
      "execution_count": 2,
      "outputs": [
        {
          "output_type": "stream",
          "text": [
            "E: Package 'python-software-properties' has no installation candidate\n",
            "··········\n"
          ],
          "name": "stdout"
        }
      ]
    },
    {
      "metadata": {
        "id": "OEuOiZFycvbd",
        "colab_type": "code",
        "colab": {
          "base_uri": "https://localhost:8080/",
          "height": 124
        },
        "outputId": "a65fcb3e-9818-41aa-cfb6-4631988e04a1"
      },
      "cell_type": "code",
      "source": [
        "from google.colab import drive\n",
        "drive.mount('/content/gdrive')"
      ],
      "execution_count": 3,
      "outputs": [
        {
          "output_type": "stream",
          "text": [
            "Go to this URL in a browser: https://accounts.google.com/o/oauth2/auth?client_id=947318989803-6bn6qk8qdgf4n4g3pfee6491hc0brc4i.apps.googleusercontent.com&redirect_uri=urn%3Aietf%3Awg%3Aoauth%3A2.0%3Aoob&scope=email%20https%3A%2F%2Fwww.googleapis.com%2Fauth%2Fdocs.test%20https%3A%2F%2Fwww.googleapis.com%2Fauth%2Fdrive%20https%3A%2F%2Fwww.googleapis.com%2Fauth%2Fdrive.photos.readonly%20https%3A%2F%2Fwww.googleapis.com%2Fauth%2Fpeopleapi.readonly&response_type=code\n",
            "\n",
            "Enter your authorization code:\n",
            "··········\n",
            "Mounted at /content/gdrive\n"
          ],
          "name": "stdout"
        }
      ]
    },
    {
      "metadata": {
        "id": "H_pWlXjgeeMq",
        "colab_type": "code",
        "colab": {
          "base_uri": "https://localhost:8080/",
          "height": 52
        },
        "outputId": "0f943183-ee80-4086-fadd-566fba2fbc93"
      },
      "cell_type": "code",
      "source": [
        "!ls ; !pwd\n",
        "# gdirve is my google drive"
      ],
      "execution_count": 30,
      "outputs": [
        {
          "output_type": "stream",
          "text": [
            "adc.json  drive  gdrive  sample_data\n",
            "/bin/bash: !pwd: command not found\n"
          ],
          "name": "stdout"
        }
      ]
    },
    {
      "metadata": {
        "id": "oIKiZd-JiOOW",
        "colab_type": "code",
        "colab": {
          "base_uri": "https://localhost:8080/",
          "height": 35
        },
        "outputId": "fd70634e-aa10-437a-86ba-202625496306"
      },
      "cell_type": "code",
      "source": [
        "!pwd"
      ],
      "execution_count": 31,
      "outputs": [
        {
          "output_type": "stream",
          "text": [
            "/content\n"
          ],
          "name": "stdout"
        }
      ]
    },
    {
      "metadata": {
        "id": "ev5g8AxueoL6",
        "colab_type": "code",
        "colab": {}
      },
      "cell_type": "code",
      "source": [
        "!mkdir -p drive\n",
        "!google-drive-ocamlfuse drive"
      ],
      "execution_count": 0,
      "outputs": []
    },
    {
      "metadata": {
        "id": "LftXi92Meq8z",
        "colab_type": "code",
        "colab": {
          "base_uri": "https://localhost:8080/",
          "height": 104
        },
        "outputId": "8b3e89db-6bce-47f6-b1a9-281f2b737eb4"
      },
      "cell_type": "code",
      "source": [
        "!cd drive/data; ls -al;"
      ],
      "execution_count": 18,
      "outputs": [
        {
          "output_type": "stream",
          "text": [
            "total 59301\n",
            "drwxr-xr-x 2 root root     4096 Dec  8 08:27 .\n",
            "drwxr-xr-x 2 root root     4096 Dec  8 11:11 ..\n",
            "-rw-r--r-- 1 root root 60711700 Dec  8 08:28 aclImdb.zip\n",
            "drwxr-xr-x 2 root root     4096 Dec  8 08:31 datasets\n"
          ],
          "name": "stdout"
        }
      ]
    },
    {
      "metadata": {
        "id": "B-IE6OOaez8A",
        "colab_type": "code",
        "colab": {
          "base_uri": "https://localhost:8080/",
          "height": 501
        },
        "outputId": "66d321db-b87f-4a0f-eb75-53cebf1b90e1"
      },
      "cell_type": "code",
      "source": [
        "!ls ./gdrive/My\\ Drive\n"
      ],
      "execution_count": 23,
      "outputs": [
        {
          "output_type": "stream",
          "text": [
            "'170523_Bigdatahub_개요보고_황재연(최종)_ppt.pptx'\n",
            "'제목 없는 프레젠테이션 (1).gslides'\n",
            "'1.통계법제도 개선 전문가의견조사지.hwp'\n",
            "'이심전심_스프린트5 분석구성모듈.gslides'\n",
            "'(8)황재연_SKT Big Data Hub.pdf'\n",
            "'AIBI_ UX시나리오_0921.gslides'\n",
            " attention.gslides\n",
            "'Colab Notebooks'\n",
            " cx_dashboard_system_component.gslides\n",
            " data\n",
            " foo.txt\n",
            "'제목 없는 문서.gdoc'\n",
            "'제목 없는 설문지.gform'\n",
            "'제목 없는 스프레드시트.gsheet'\n",
            "'제목 없는 프레젠테이션.gslides'\n",
            " IA_Bot_Landscape_Dec2017.pdf\n",
            " Luminoso.gsheet\n",
            " papers\n",
            " rnn-concept.gslides\n",
            " share\n",
            " SKT_BDH_고도화_화면설계서_메인개편_v0.2_180605.pptx\n",
            "'sprint1-Target Image.gslides'\n",
            "'the_matrix (1).pdf'\n",
            " the_matrix.pdf\n",
            " TPG_Architecture_1.gslides\n",
            " TPG_Architecture.gslides\n",
            " TPG_DataMasterArchitecture_3.gslides\n",
            " TPG_DataMasterArchitecture_4.gslides\n"
          ],
          "name": "stdout"
        }
      ]
    },
    {
      "metadata": {
        "id": "b_L-YhxZhXOt",
        "colab_type": "code",
        "colab": {
          "base_uri": "https://localhost:8080/",
          "height": 501
        },
        "outputId": "6d47d08e-1e9a-4454-96ac-347da46b90da"
      },
      "cell_type": "code",
      "source": [
        "!ls ./gdrive/My\\ Drive"
      ],
      "execution_count": 28,
      "outputs": [
        {
          "output_type": "stream",
          "text": [
            "'170523_Bigdatahub_개요보고_황재연(최종)_ppt.pptx'\n",
            "'제목 없는 프레젠테이션 (1).gslides'\n",
            "'1.통계법제도 개선 전문가의견조사지.hwp'\n",
            "'이심전심_스프린트5 분석구성모듈.gslides'\n",
            "'(8)황재연_SKT Big Data Hub.pdf'\n",
            "'AIBI_ UX시나리오_0921.gslides'\n",
            " attention.gslides\n",
            "'Colab Notebooks'\n",
            " cx_dashboard_system_component.gslides\n",
            " data\n",
            " foo.txt\n",
            "'제목 없는 문서.gdoc'\n",
            "'제목 없는 설문지.gform'\n",
            "'제목 없는 스프레드시트.gsheet'\n",
            "'제목 없는 프레젠테이션.gslides'\n",
            " IA_Bot_Landscape_Dec2017.pdf\n",
            " Luminoso.gsheet\n",
            " papers\n",
            " rnn-concept.gslides\n",
            " share\n",
            " SKT_BDH_고도화_화면설계서_메인개편_v0.2_180605.pptx\n",
            "'sprint1-Target Image.gslides'\n",
            "'the_matrix (1).pdf'\n",
            " the_matrix.pdf\n",
            " TPG_Architecture_1.gslides\n",
            " TPG_Architecture.gslides\n",
            " TPG_DataMasterArchitecture_3.gslides\n",
            " TPG_DataMasterArchitecture_4.gslides\n"
          ],
          "name": "stdout"
        }
      ]
    },
    {
      "metadata": {
        "id": "wXTiuiMEhmRo",
        "colab_type": "code",
        "colab": {
          "base_uri": "https://localhost:8080/",
          "height": 35
        },
        "outputId": "438b0a54-0aba-4c3a-85fb-afc96770bc18"
      },
      "cell_type": "code",
      "source": [
        "!pwd"
      ],
      "execution_count": 26,
      "outputs": [
        {
          "output_type": "stream",
          "text": [
            "/content\n"
          ],
          "name": "stdout"
        }
      ]
    },
    {
      "metadata": {
        "id": "MY1uxtEYhrZx",
        "colab_type": "code",
        "colab": {}
      },
      "cell_type": "code",
      "source": [
        ""
      ],
      "execution_count": 0,
      "outputs": []
    }
  ]
}